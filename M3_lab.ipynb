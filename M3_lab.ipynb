{
 "cells": [
  {
   "cell_type": "markdown",
   "metadata": {},
   "source": [
    "'''Alexander Schalk\n",
    "SDEV 220 - Evan Mitchell\n",
    "M3 Lab  Assignment\n",
    "04/08/2024\n",
    "'''"
   ]
  },
  {
   "cell_type": "code",
   "execution_count": 13,
   "metadata": {},
   "outputs": [],
   "source": [
    "class Vehicle():\n",
    "    def __init__(self, type):\n",
    "        self.type = type\n",
    "\n",
    "    def __init__(self): #User input init\n",
    "        super().__init__(\"Automobile\")\n",
    "        while True:\n",
    "            try:\n",
    "                self.year = int(input(\"What is the year of the vehicle?\"))\n",
    "            except Exception:\n",
    "                print(\"Invalid input, please enter a date\")\n",
    "            else: break\n",
    "        self.make = input(\"What is the make of the vehicle\")\n",
    "        self.model = input(\"What is the model of the vehicle\")\n",
    "        while True:\n",
    "            try:\n",
    "                self.doors = int(input(\"How many doors does the vehicle have, 2 or 4?\"))\n",
    "                assert self.doors in [2,4]\n",
    "            except Exception:\n",
    "                print(\"Invalid input, please enter either 2 or 4\")\n",
    "            else: break\n",
    "        while True:\n",
    "            try:\n",
    "                self.roof = input(\"What kind of roof does it have a Solid or a Sunroof?\")\n",
    "                assert self.roof in [\"Solid\", \"Sunroof\"]\n",
    "            except Exception:\n",
    "                print(\"Invalid input, please enter either 'Solid' or 'Sunroof'.\")\n",
    "            else: break\n",
    "\n",
    "    def __str__(self): #return description of car\n",
    "        return(f'''\n",
    "        Vehicle type: Automobile\n",
    "        Year: {self.year}\n",
    "        Make: {self.make}\n",
    "        Model: {self.model}\n",
    "        Number of doors: {self.doors}\n",
    "        Type of roof: {self.roof}''')\n",
    "\n",
    "\n",
    "\n",
    "              "
   ]
  }
 ],
 "metadata": {
  "kernelspec": {
   "display_name": "Python 3",
   "language": "python",
   "name": "python3"
  },
  "language_info": {
   "codemirror_mode": {
    "name": "ipython",
    "version": 3
   },
   "file_extension": ".py",
   "mimetype": "text/x-python",
   "name": "python",
   "nbconvert_exporter": "python",
   "pygments_lexer": "ipython3",
   "version": "3.12.2"
  }
 },
 "nbformat": 4,
 "nbformat_minor": 2
}
